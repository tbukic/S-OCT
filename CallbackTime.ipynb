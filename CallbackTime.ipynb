{
 "cells": [
  {
   "cell_type": "code",
   "execution_count": 1,
   "metadata": {},
   "outputs": [],
   "source": [
    "import time\n",
    "from datasets import *\n",
    "from sklearn.model_selection import train_test_split\n",
    "from sklearn.tree import DecisionTreeClassifier\n",
    "from sklearn.svm import LinearSVC\n",
    "from SOCT.LinearClassifierHeuristic import LinearClassifierHeuristic\n",
    "from SOCT.SOCTStumpHeuristic import SOCTStumpHeuristic\n",
    "from SOCT.SOCTFull import SOCTFull\n",
    "from SOCT.SOCTBenders import SOCTBenders\n",
    "from SOCT.utils import *"
   ]
  },
  {
   "cell_type": "code",
   "execution_count": 2,
   "metadata": {},
   "outputs": [
    {
     "name": "stdout",
     "output_type": "stream",
     "text": [
      "X_train dimensions: (263, 34)\n"
     ]
    }
   ],
   "source": [
    "X, y = load_ionosphere()\n",
    "X_train, X_test, y_train, y_test = train_test_split(X, y, random_state=0)\n",
    "X_train, X_test = preprocess_dataset(X_train, X_test, numerical_features=X_train.columns)\n",
    "print(\"X_train dimensions:\", X_train.shape)\n",
    "\n",
    "max_depth = 4\n",
    "heuristic_time_limit = 60\n",
    "time_limit = 600"
   ]
  },
  {
   "cell_type": "code",
   "execution_count": 2,
   "metadata": {},
   "outputs": [
    {
     "name": "stdout",
     "output_type": "stream",
     "text": [
      "X_train dimensions: (718, 27)\n"
     ]
    }
   ],
   "source": [
    "X, y = load_tictactoe_endgame()\n",
    "X_train, X_test, y_train, y_test = train_test_split(X, y, random_state=0)\n",
    "X_train, X_test = preprocess_dataset(X_train, X_test, categorical_features=X_train.columns)\n",
    "print(\"X_train dimensions:\", X_train.shape)\n",
    "\n",
    "max_depth = 4\n",
    "heuristic_time_limit = 60\n",
    "time_limit = 600"
   ]
  },
  {
   "cell_type": "code",
   "execution_count": 3,
   "metadata": {},
   "outputs": [
    {
     "name": "stdout",
     "output_type": "stream",
     "text": [
      "Set parameter Username\n",
      "Academic license - for non-commercial use only - expires 2022-11-10\n",
      "Set parameter LazyConstraints to value 1\n",
      "Set parameter TimeLimit to value 600\n",
      "Gurobi Optimizer version 9.5.0 build v9.5.0rc5 (win64)\n",
      "Thread count: 6 physical cores, 12 logical processors, using up to 12 threads\n",
      "Optimize a model with 45250 rows, 33793 columns and 100552 nonzeros\n",
      "Model fingerprint: 0x70e36574\n",
      "Variable types: 22305 continuous, 11488 integer (11488 binary)\n",
      "Coefficient statistics:\n",
      "  Matrix range     [1e+00, 1e+00]\n",
      "  Objective range  [1e-05, 1e-03]\n",
      "  Bounds range     [1e+00, 1e+00]\n",
      "  RHS range        [1e+00, 1e+00]\n",
      "Presolve removed 11504 rows and 11504 columns\n",
      "Presolve time: 0.11s\n",
      "Presolved: 33746 rows, 22289 columns, 78980 nonzeros\n",
      "Variable types: 11519 continuous, 10770 integer (10770 binary)\n",
      "Found heuristic solution: objective -0.6573816\n",
      "\n",
      "Root relaxation: objective -9.999950e-01, 15428 iterations, 0.37 seconds (0.79 work units)\n",
      "\n",
      "    Nodes    |    Current Node    |     Objective Bounds      |     Work\n",
      " Expl Unexpl |  Obj  Depth IntInf | Incumbent    BestBd   Gap | It/Node Time\n",
      "\n",
      "     0     0   -0.99999    0  718   -0.65738   -0.99999  52.1%     -    0s\n",
      "     0     0   -0.99999    0  975   -0.65738   -0.99999  52.1%     -    3s\n",
      "     0     0   -0.99999    0 2182   -0.65738   -0.99999  52.1%     -    4s\n",
      "     0     0   -0.99999    0 2181   -0.65738   -0.99999  52.1%     -    5s\n",
      "     0     0   -0.99999    0 1736   -0.65738   -0.99999  52.1%     -    5s\n",
      "     0     0   -0.99999    0  978   -0.65738   -0.99999  52.1%     -    6s\n",
      "     0     0   -0.99999    0  980   -0.65738   -0.99999  52.1%     -    7s\n",
      "     0     0   -0.99999    0  977   -0.65738   -0.99999  52.1%     -    8s\n",
      "     0     0   -0.99999    0  973   -0.65738   -0.99999  52.1%     -    8s\n",
      "     0     2   -0.99999    0  973   -0.65738   -0.99999  52.1%     -    8s\n",
      "    37    44   -0.99999    6  483   -0.65738   -0.99999  52.1%   428   10s\n",
      "H  412   738                      -0.9999800   -0.99999  0.00%  75.4   13s\n",
      "\n",
      "Cutting planes:\n",
      "  Gomory: 15\n",
      "  MIR: 3\n",
      "  Lazy constraints: 82\n",
      "\n",
      "Explored 834 nodes (71429 simplex iterations) in 13.28 seconds (11.92 work units)\n",
      "Thread count was 12 (of 12 available processors)\n",
      "\n",
      "Solution count 2: -0.99998 -0.657382 \n",
      "\n",
      "Solve interrupted\n",
      "Best objective -9.999800000000e-01, best bound -9.999920000000e-01, gap 0.0012%\n",
      "\n",
      "User-callback calls 2371, time in user-callback 4.28 sec\n",
      "Train/test accuracy, running time, callback calls/time/frac: 1.0 0.9583333333333334 14.083491802215576 40 4.250986576080322 0.30184180427552554\n"
     ]
    }
   ],
   "source": [
    "# S-OCT Benders without warm start\n",
    "start_time = time.time()\n",
    "clf = SOCTBenders(max_depth=max_depth, ccp_alpha=0.00001, time_limit=time_limit)\n",
    "clf.fit(X_train, y_train)\n",
    "end_time = time.time()\n",
    "train_acc = clf.score(X_train, y_train)\n",
    "test_acc = clf.score(X_test, y_test)\n",
    "running_time = end_time - start_time\n",
    "callback_time = clf.master_._callback_time\n",
    "callback_frac = callback_time / running_time\n",
    "print(\"Train/test accuracy, running time, callback calls/time/frac:\", train_acc, test_acc, running_time, clf.master_._callback_calls, callback_time, callback_frac)"
   ]
  },
  {
   "cell_type": "code",
   "execution_count": 4,
   "metadata": {},
   "outputs": [
    {
     "name": "stdout",
     "output_type": "stream",
     "text": [
      "Train/test accuracy, running time: 1.0 0.9583333333333334 3.5306081771850586\n"
     ]
    }
   ],
   "source": [
    "# S-OCT stump heuristic\n",
    "start_time = time.time()\n",
    "clf = SOCTStumpHeuristic(max_depth=max_depth, time_limit=heuristic_time_limit)\n",
    "clf.fit(X_train, y_train)\n",
    "end_time = time.time()\n",
    "train_acc = clf.score(X_train, y_train)\n",
    "test_acc = clf.score(X_test, y_test)\n",
    "running_time = end_time - start_time\n",
    "print(\"Train/test accuracy, running time:\", train_acc, test_acc, running_time)\n",
    "warm_start = clf.branch_rules_, clf.classification_rules_"
   ]
  },
  {
   "cell_type": "code",
   "execution_count": 5,
   "metadata": {},
   "outputs": [
    {
     "name": "stdout",
     "output_type": "stream",
     "text": [
      "Set parameter LazyConstraints to value 1\n",
      "Set parameter TimeLimit to value 5.9646939182281494e+02\n",
      "Gurobi Optimizer version 9.5.0 build v9.5.0rc5 (win64)\n",
      "Thread count: 6 physical cores, 12 logical processors, using up to 12 threads\n",
      "Optimize a model with 45250 rows, 33793 columns and 100552 nonzeros\n",
      "Model fingerprint: 0xf25a6eb7\n",
      "Variable types: 22305 continuous, 11488 integer (11488 binary)\n",
      "Coefficient statistics:\n",
      "  Matrix range     [1e+00, 1e+00]\n",
      "  Objective range  [1e-05, 1e-03]\n",
      "  Bounds range     [1e+00, 1e+00]\n",
      "  RHS range        [1e+00, 1e+00]\n",
      "\n",
      "Loaded user MIP start with objective -0.99998\n",
      "\n",
      "Presolve removed 11504 rows and 11504 columns\n",
      "Presolve time: 0.10s\n",
      "Presolved: 33746 rows, 22289 columns, 78980 nonzeros\n",
      "Variable types: 11519 continuous, 10770 integer (10770 binary)\n",
      "\n",
      "Root relaxation: objective -9.999950e-01, 15428 iterations, 0.37 seconds (0.79 work units)\n",
      "\n",
      "    Nodes    |    Current Node    |     Objective Bounds      |     Work\n",
      " Expl Unexpl |  Obj  Depth IntInf | Incumbent    BestBd   Gap | It/Node Time\n",
      "\n",
      "     0     0   -0.99999    0  718   -0.99998   -0.99999  0.00%     -    0s\n",
      "\n",
      "Explored 1 nodes (19995 simplex iterations) in 0.73 seconds (1.18 work units)\n",
      "Thread count was 12 (of 12 available processors)\n",
      "\n",
      "Solution count 1: -0.99998 \n",
      "\n",
      "Optimal solution found (tolerance 1.00e-04)\n",
      "Best objective -9.999800000000e-01, best bound -9.999950000000e-01, gap 0.0015%\n",
      "\n",
      "User-callback calls 327, time in user-callback 0.09 sec\n",
      "Train/test accuracy, running time, callback calls/time/frac: 1.0 0.9583333333333334 1.5403459072113037 1 0.09001970291137695 0.0584412257597073\n"
     ]
    }
   ],
   "source": [
    "# S-OCT Benders with S-OCT stump warm start\n",
    "start_time = time.time()\n",
    "clf = SOCTBenders(max_depth=max_depth, ccp_alpha=0.00001, warm_start_tree=warm_start, time_limit=time_limit-running_time)\n",
    "clf.fit(X_train, y_train)\n",
    "end_time = time.time()\n",
    "train_acc = clf.score(X_train, y_train)\n",
    "test_acc = clf.score(X_test, y_test)\n",
    "running_time = end_time - start_time\n",
    "callback_time = clf.master_._callback_time\n",
    "callback_frac = callback_time / running_time\n",
    "print(\"Train/test accuracy, running time, callback calls/time/frac:\", train_acc, test_acc, running_time, clf.master_._callback_calls, callback_time, callback_frac)"
   ]
  },
  {
   "cell_type": "code",
   "execution_count": null,
   "metadata": {},
   "outputs": [],
   "source": []
  }
 ],
 "metadata": {
  "kernelspec": {
   "display_name": "Python 3",
   "language": "python",
   "name": "python3"
  },
  "language_info": {
   "codemirror_mode": {
    "name": "ipython",
    "version": 3
   },
   "file_extension": ".py",
   "mimetype": "text/x-python",
   "name": "python",
   "nbconvert_exporter": "python",
   "pygments_lexer": "ipython3",
   "version": "3.8.5"
  }
 },
 "nbformat": 4,
 "nbformat_minor": 4
}
